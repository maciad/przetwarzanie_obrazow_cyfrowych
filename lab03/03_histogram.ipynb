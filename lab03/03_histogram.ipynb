{
 "cells": [
  {
   "cell_type": "markdown",
   "metadata": {
    "id": "GyJVpdDDcDvQ",
    "pycharm": {
     "name": "#%% md\n"
    }
   },
   "source": [
    "# Histogram obrazu. Wyrównywanie histogramu."
   ]
  },
  {
   "cell_type": "markdown",
   "metadata": {
    "collapsed": false,
    "id": "NLeSSymzcDvS",
    "jupyter": {
     "outputs_hidden": false
    },
    "pycharm": {
     "name": "#%% md\n"
    }
   },
   "source": [
    "## Cel ćwiczenia\n",
    "\n",
    "- Zapoznanie z pojęciem histogramu obrazu (w odcieniach szarości i kolorze).\n",
    "- Zapoznanie z metodami modyfikacji histogramu (rozciąganie, wyrównywanie, dopasowywanie)."
   ]
  },
  {
   "cell_type": "markdown",
   "metadata": {
    "collapsed": false,
    "id": "-vb7gT4WcDvT",
    "jupyter": {
     "outputs_hidden": false
    },
    "pycharm": {
     "name": "#%% md\n"
    }
   },
   "source": [
    "## Histogram\n",
    "\n",
    "- Histogramem obrazu nazywamy wykres słupkowy zdefiniowany następującymi zależnościami:<br>\n",
    "\\begin{equation}\n",
    "h(i) = \\sum_{x=0}^{N-1} \\sum_{y=0}^{M-1} p(i,(x,y))\n",
    "\\end{equation}<br>\n",
    "gdzie:<br>\n",
    "\\begin{equation}\n",
    "p(i) =  \\left\\{\n",
    "  \\begin{array}{l l}\n",
    "    1 & \\quad \\text{gdy} f(x,y) = i\\\\\n",
    "    0 & \\quad \\text{gdy} f(x,y) \\ne i\n",
    "  \\end{array} \\right.\n",
    "\\end{equation}\n",
    "\n",
    "- Inaczej mówiąc, histogram zawiera informacje na temat tego ile pikseli o danym poziomie jasności występuje na obrazie (w przypadku obrazu w odcieniach szarości). Określa się to także rozkładem empirycznym cechy.\n",
    "\n",
    "- Często wykorzystuje się tzw. znormalizowaną postać histogramu  – wszystkie wartości $h(i)$ są dzielone przez liczbę pikseli na obrazie.\n",
    "Otrzymana w ten sposób wielkość to gęstość prawdopodobieństwa wystąpienia na obrazie pikseli o odcieniu $i$.\n",
    "\n",
    "- Histogram można zdefiniować również dla obrazów kolorowych.\n",
    "Otrzymujemy wtedy 3 histogramy – po jednym dla danej składowej: R,G,B (lub HSV, YCbCr, itp.) lub histogram trójwymiarowy.\n",
    "\n",
    "- Histogram jest bardzo użyteczny w przetwarzaniu i analizie obrazów.\n",
    "Wykorzystywany jest przy binaryzacji (szerzej na jednym z kolejnych laboratoriów) oraz do oceny jakości (dynamiki, kontrastu) obrazu.\n",
    "W idealnym przypadku wszystkie poziomy jasności w obrazie powinny być wykorzystane (i to najlepiej w miarę jednolicie)  – obrazowo mówiąc histogram powinien rozciągać się od 0  – 255 (obraz w skali szarości).\n",
    "\n",
    "- W przypadku gdy  wykorzystujemy jedynie fragment dostępnego zakresu (wąski histogram)  lub histogram nie jest jednolity (występują dominujące grupy pikseli) obraz ma dość słaby kontrast.\n",
    "Cechę tę można poprawić stosując tzw. rozciąganie albo wyrównywanie histogramu (ang. *histogram equalization*).</div>"
   ]
  },
  {
   "cell_type": "markdown",
   "metadata": {
    "collapsed": false,
    "id": "lFY1GGOecDvU",
    "jupyter": {
     "outputs_hidden": false
    },
    "pycharm": {
     "name": "#%% md\n"
    }
   },
   "source": [
    "## Histogram dla obrazów w odcieniach szarości\n",
    "\n",
    "1. Zaimportuj potrzebne biblioteki: *OpenCV*, *pyplot* z *matplotlib* i *numpy*.\n",
    "        import cv2\n",
    "        from matplotlib import pyplot as plt\n",
    "        import numpy as np\n",
    "2. Wczytaj obrazy *lenaX.bmp* w skali szarości. *X* jest numerem wczytywanego obrazu (1 - 4).\n",
    "        I = cv2.imread('lenaX.bmp', cv2.IMREAD_GRAYSCALE)\n",
    "3. Oblicz histogram wczytanego obrazu wykorzystując funkcję `cv2.calcHist`.\n",
    "    - Pierwszym argumentem jest obraz, dla którego obliczony zostanie histogram.\n",
    "    Należy go przekazać w nawiasie kwadratowym.\n",
    "    - Drugim argumentem jest numer kanału, dla którego ma zostać obliczony histogram.\n",
    "    Również powinien być przekazany w nawiasie kwadratowym.\n",
    "    - Trzeci argument oznacza maskę, czyli obszar, dla którego ma zostać wyznaczony histogram.\n",
    "    Aby obliczyć dla całego obrazu należy przekazać *None*.\n",
    "    - Czwartym argumentem jest rozmiar histogramu (liczba przedziałów).\n",
    "    Argument powinien być w nawiasie kwadratowym. Dla pełnej skali należy przekazać wartość *256*.\n",
    "    - Ostatnim argumentem jest zakres wartości. Dla obrazów typu *uint8* powinien on wynosić *[0, 256]*.\n",
    "    - Funkcja zwraca obliczony histogram.\n",
    "4. Wyświetl wczytane obrazy i ich histogramy w jednym oknie. Użyj `plt.subplot()` w celu stworzenia siatki wykresów.\n",
    "        figLena, axsLena = plt.subplots(2, 4)\n",
    "Rozmiar utworzonego okna można zmienić wykorzystując instrukcję (uwaga w calach -  1 cal to 2.54cm):\n",
    "        figLena.set_size_inches(20, 10)\n",
    "Przykładowe wyświetlenie obrazu:\n",
    "        axsLena[0, 0].imshow(I1, 'gray', vmin=0, vmax=256)\n",
    "        axsLena[0, 0].axis('off')\n",
    "Przykładowe wyświetlenie histogramu:\n",
    "        axsLena[1, 0].plot(H1)\n",
    "        axsLena[1, 0].grid()\n",
    "5. Przeanalizuj (dokładnie) związek histogramu z jasnością i ostrością obrazu (tu rozumianą jako subiektywne odczucie)."
   ]
  },
  {
   "cell_type": "code",
   "execution_count": null,
   "metadata": {
    "id": "KweWeS_UcDvV",
    "pycharm": {
     "name": "#%% Zadanie 1 - wyświetlanie\n"
    }
   },
   "outputs": [],
   "source": [
    "import cv2\n",
    "import os\n",
    "import requests\n",
    "from matplotlib import pyplot as plt\n",
    "import numpy as np\n",
    "\n",
    "url = 'https://raw.githubusercontent.com/vision-agh/poc_sw/master/03_Histogram/'\n",
    "\n",
    "fileName = 'lena1.bmp'\n",
    "if not os.path.exists(fileName) :\n",
    "    r = requests.get(url + fileName, allow_redirects=True)\n",
    "    open(fileName, 'wb').write(r.content)\n",
    "\n",
    "fileName = 'lena2.bmp'\n",
    "if not os.path.exists(fileName) :\n",
    "    r = requests.get(url + fileName, allow_redirects=True)\n",
    "    open(fileName, 'wb').write(r.content)\n",
    "\n",
    "fileName = 'lena3.bmp'\n",
    "if not os.path.exists(fileName) :\n",
    "    r = requests.get(url + fileName, allow_redirects=True)\n",
    "    open(fileName, 'wb').write(r.content)\n",
    "\n",
    "fileName = 'lena4.bmp'\n",
    "if not os.path.exists(fileName) :\n",
    "    r = requests.get(url + fileName, allow_redirects=True)\n",
    "    open(fileName, 'wb').write(r.content)"
   ]
  },
  {
   "cell_type": "code",
   "execution_count": null,
   "metadata": {},
   "outputs": [],
   "source": [
    "I1 = cv2.imread('lena1.bmp', cv2.IMREAD_GRAYSCALE)\n",
    "I2 = cv2.imread('lena2.bmp', cv2.IMREAD_GRAYSCALE)\n",
    "I3 = cv2.imread('lena3.bmp', cv2.IMREAD_GRAYSCALE)\n",
    "I4 = cv2.imread('lena4.bmp', cv2.IMREAD_GRAYSCALE)"
   ]
  },
  {
   "cell_type": "code",
   "execution_count": null,
   "metadata": {},
   "outputs": [],
   "source": [
    "H1 = cv2.calcHist([I1], [0], None, [256], [0, 256])\n",
    "H2 = cv2.calcHist([I2], [0], None, [256], [0, 256])\n",
    "H3 = cv2.calcHist([I3], [0], None, [256], [0, 256])\n",
    "H4 = cv2.calcHist([I4], [0], None, [256], [0, 256])"
   ]
  },
  {
   "cell_type": "code",
   "execution_count": null,
   "metadata": {},
   "outputs": [],
   "source": [
    "figLena, axsLena = plt.subplots(2, 4, figsize=(15,8))\n",
    "\n",
    "axsLena[0, 0].imshow(I1, cmap='gray')\n",
    "axsLena[0, 0].set_title('Lena1')\n",
    "axsLena[0, 0].axis('off')\n",
    "axsLena[1, 0].plot(H1)\n",
    "axsLena[1, 0].set_title('H1')\n",
    "axsLena[1, 0].grid()\n",
    "\n",
    "axsLena[0, 1].imshow(I2, cmap='gray')\n",
    "axsLena[0, 1].set_title('Lena2')\n",
    "axsLena[0, 1].axis('off')\n",
    "axsLena[1, 1].plot(H2)\n",
    "axsLena[1, 1].set_title('H2')\n",
    "axsLena[1, 1].grid()\n",
    "\n",
    "axsLena[0, 2].imshow(I3, cmap='gray')\n",
    "axsLena[0, 2].set_title('Lena3')\n",
    "axsLena[0, 2].axis('off')\n",
    "axsLena[1, 2].plot(H3)\n",
    "axsLena[1, 2].set_title('H3')\n",
    "axsLena[1, 2].grid()\n",
    "\n",
    "axsLena[0, 3].imshow(I4, cmap='gray')\n",
    "axsLena[0, 3].set_title('Lena4')\n",
    "axsLena[0, 3].axis('off')\n",
    "axsLena[1, 3].plot(H4)\n",
    "axsLena[1, 3].set_title('H4')\n",
    "axsLena[1, 3].grid()\n",
    "plt.show()"
   ]
  },
  {
   "cell_type": "markdown",
   "metadata": {
    "collapsed": false,
    "id": "yvrZfMJZcDvV",
    "jupyter": {
     "outputs_hidden": false
    },
    "pycharm": {
     "name": "#%% md\n"
    }
   },
   "source": [
    "## Rozciąganie histogramu\n",
    "\n",
    "Najprostszą metodą poprawienia jakości obrazu jest tzw. rozciągnięcie histogramu.\n",
    "Polega na przeskalowaniu wartości pikseli w obrazie tak, aby wykorzystać cały dostępny zakres [0-255] (oczywiście w przypadku obrazów w odcieniach szarości w reprezentacji 8-bitowej).\n",
    "\n",
    "1. Wczytaj obraz *hist1.bmp* w skali szarości.\n",
    "Oblicz i wyświetl histogram rozpatrywanego obrazu (na wspólnym rysunku z obrazem).\n",
    "Zwróć uwagę na ilość widocznych szczegółów.\n",
    "2. Rozciągnij histogram obrazu. W tym celu można wykorzystać funkcję `cv2.normalize`.\n",
    "    - Pierwszym argumentem funkcji jest obraz poddawany operacji.\n",
    "    - Drugim argumentem jest tablica do której zostanie wpisany wynik.\n",
    "    Należy ją najpierw zainicjalizować.\n",
    "    Najlepiej zrobić to funkcją `np.zeros`, której pierwszym argumentem jest rozmiar obrazu (`I.shape`), a drugim typ danych (`uint8`).\n",
    "    Można również przekazać `None`, a wynik przypisać do nowej zmiennej.\n",
    "    - Trzecim argumentem jest minimalna wartość po normalizacji.\n",
    "    - Czwartym argumentem jest wartość maksymalna po normalizacji.\n",
    "    - Ostatnim argumentem jest typ wykorzystanej normy (uogólnienie pojęcia długości wektora).\n",
    "    Należy wykorzystać normę `cv2.NORM_MINMAX`.\n",
    "3. Wyświetl obraz oryginalny, po wykonanej operacji oraz ich histogramy.\n",
    "4. Czy ilość \"widocznych\" szczegółów uległa zmianie?"
   ]
  },
  {
   "cell_type": "code",
   "execution_count": null,
   "metadata": {
    "id": "9dmix38-cDvW",
    "pycharm": {
     "name": "#%% Zadanie 2 - rozciąganie\n"
    }
   },
   "outputs": [],
   "source": [
    "fileName = 'hist1.bmp'\n",
    "if not os.path.exists(fileName) :\n",
    "    r = requests.get(url + fileName, allow_redirects=True)\n",
    "    open(fileName, 'wb').write(r.content)\n",
    "\n",
    "fileName = 'hist2.bmp'\n",
    "if not os.path.exists(fileName) :\n",
    "    r = requests.get(url + fileName, allow_redirects=True)\n",
    "    open(fileName, 'wb').write(r.content)\n",
    "\n",
    "fileName = 'hist3.bmp'\n",
    "if not os.path.exists(fileName) :\n",
    "    r = requests.get(url + fileName, allow_redirects=True)\n",
    "    open(fileName, 'wb').write(r.content)\n",
    "\n",
    "fileName = 'hist4.bmp'\n",
    "if not os.path.exists(fileName) :\n",
    "    r = requests.get(url + fileName, allow_redirects=True)\n",
    "    open(fileName, 'wb').write(r.content)"
   ]
  },
  {
   "cell_type": "code",
   "execution_count": null,
   "metadata": {},
   "outputs": [],
   "source": [
    "I_1 = cv2.imread('hist1.bmp', cv2.IMREAD_GRAYSCALE)\n",
    "I_2 = cv2.imread('hist2.bmp', cv2.IMREAD_GRAYSCALE)\n",
    "I_3 = cv2.imread('hist3.bmp', cv2.IMREAD_GRAYSCALE)\n",
    "I_4 = cv2.imread('hist4.bmp', cv2.IMREAD_GRAYSCALE)"
   ]
  },
  {
   "cell_type": "code",
   "execution_count": null,
   "metadata": {},
   "outputs": [],
   "source": [
    "H_1 = cv2.calcHist([I_1], [0], None, [256], [0, 256])\n",
    "H_2 = cv2.calcHist([I_2], [0], None, [256], [0, 256])\n",
    "H_3 = cv2.calcHist([I_3], [0], None, [256], [0, 256])\n",
    "H_4 = cv2.calcHist([I_4], [0], None, [256], [0, 256])"
   ]
  },
  {
   "cell_type": "code",
   "execution_count": null,
   "metadata": {},
   "outputs": [],
   "source": [
    "N1 = cv2.normalize(I_1, None, 0, 255, cv2.NORM_MINMAX)\n",
    "N2 = cv2.normalize(I_2, None, 0, 255, cv2.NORM_MINMAX)\n",
    "N3 = cv2.normalize(I_3, None, 0, 255, cv2.NORM_MINMAX)\n",
    "N4 = cv2.normalize(I_4, None, 0, 255, cv2.NORM_MINMAX)"
   ]
  },
  {
   "cell_type": "code",
   "execution_count": null,
   "metadata": {},
   "outputs": [],
   "source": [
    "NH1 = cv2.calcHist([N1], [0], None, [256], [0, 256])\n",
    "NH2 = cv2.calcHist([N2], [0], None, [256], [0, 256])\n",
    "NH3 = cv2.calcHist([N3], [0], None, [256], [0, 256])\n",
    "NH4 = cv2.calcHist([N4], [0], None, [256], [0, 256])"
   ]
  },
  {
   "cell_type": "code",
   "execution_count": null,
   "metadata": {},
   "outputs": [],
   "source": [
    "figNorm, axsNorm = plt.subplots(4, 4, figsize=(15,15))\n",
    "\n",
    "axsNorm[0, 0].imshow(I_1, cmap='gray')\n",
    "axsNorm[0, 0].set_title('img1')\n",
    "axsNorm[0, 0].axis('off')\n",
    "axsNorm[0, 1].plot(H_1)\n",
    "axsNorm[0, 1].set_title('hist1')\n",
    "axsNorm[0, 2].imshow(N1, cmap='gray')\n",
    "axsNorm[0, 2].set_title('norm1')\n",
    "axsNorm[0, 2].axis('off')\n",
    "axsNorm[0, 3].plot(NH1)\n",
    "axsNorm[0, 3].set_title('norm_hist1')\n",
    "\n",
    "axsNorm[1, 0].imshow(I_2, cmap='gray')\n",
    "axsNorm[1, 0].set_title('img2')\n",
    "axsNorm[1, 0].axis('off')\n",
    "axsNorm[1, 1].plot(H_2)\n",
    "axsNorm[1, 1].set_title('hist2')\n",
    "axsNorm[1, 2].imshow(N2, cmap='gray')\n",
    "axsNorm[1, 2].set_title('norm2')\n",
    "axsNorm[1, 2].axis('off')\n",
    "axsNorm[1, 3].plot(NH2)\n",
    "axsNorm[1, 3].set_title('norm_hist2')\n",
    "\n",
    "axsNorm[2, 0].imshow(I_3, cmap='gray')\n",
    "axsNorm[2, 0].set_title('img3')\n",
    "axsNorm[2, 0].axis('off')\n",
    "axsNorm[2, 1].plot(H_3)\n",
    "axsNorm[2, 1].set_title('hist3')\n",
    "axsNorm[2, 2].imshow(N3, cmap='gray')\n",
    "axsNorm[2, 2].set_title('norm3')\n",
    "axsNorm[2, 2].axis('off')\n",
    "axsNorm[2, 3].plot(NH3)\n",
    "axsNorm[2, 3].set_title('norm_hist3')\n",
    "\n",
    "axsNorm[3, 0].imshow(I_4, cmap='gray')\n",
    "axsNorm[3, 0].set_title('img4')\n",
    "axsNorm[3, 0].axis('off')\n",
    "axsNorm[3, 1].plot(H_4)\n",
    "axsNorm[3, 1].set_title('hist4')\n",
    "axsNorm[3, 2].imshow(N4, cmap='gray')\n",
    "axsNorm[3, 2].set_title('norm4')\n",
    "axsNorm[3, 2].axis('off')\n",
    "axsNorm[3, 3].plot(NH4)\n",
    "axsNorm[3, 3].set_title('norm_hist4')\n",
    "\n",
    "plt.show()"
   ]
  },
  {
   "cell_type": "markdown",
   "metadata": {
    "collapsed": false,
    "id": "qQYQVoOEcDvW",
    "jupyter": {
     "outputs_hidden": false
    },
    "pycharm": {
     "name": "#%% md\n"
    }
   },
   "source": [
    "## Wyrównywanie histogramu\n",
    "\n",
    "<div style=\"text-align: justify\">\n",
    "Bardziej zaawansowaną metodą jest tzw. wyrównywanie histogramu (ang. *histogram equalization – HE*).\n",
    "Idea jest następująca: z punktu widzenia lepszego wykorzystania dostępnych poziomów jasności pożądane jest rozciągnięcie \"szczytów\" histogramu, a~skompresowanie \"dolin\" tak, aby taka sama liczba pikseli reprezentowana była przez każdy z dostępnych poziomów jasności (a przynjamniej przybliżona).\n",
    "Warto zwrócić uwagę, że takie przekształcenie powoduje częściową utratę informacji o szczegółach w obszarach \"dolin\".\n",
    "Inaczej mówiąc, dążymy do sytuacji, aby histogram był względnie jednostajny.\n",
    "Operacją, która pozwala wykonać wyrównywanie histogramu, jest przekształcenie LUT z funkcją przejścia w postaci histogramu skumulowanego danego obrazu.</div><br>\n",
    "\n",
    "<div style=\"text-align: justify\">\n",
    "Histogram skumulowany to funkcja obliczona na podstawie histogramu.\n",
    "Jej pierwszy element to liczba pikseli o odcieniu $0$.\n",
    "Kolejne wartości to liczba pikseli o odcieniach od $0$ do $n$.</div>\n",
    "\n",
    "\\begin{equation}\n",
    "C(n) = \\sum_{i=0}^{n} h(i)\n",
    "\\end{equation}\n",
    "\n",
    "<div style=\"text-align: justify\">\n",
    "Jeżeli histogram jest w postaci znormalizowanej (gęstość rozkładu prawdopodobieństwa) to histogram skumulowany stanowi dystrybuantę rozkładu prawdopodobieństwa.</div><br>\n",
    "\n",
    "1. Wyznacz histogram skumulowany dla obrazu *hist1.bmp*.\n",
    "W tym celu wykorzystaj metodę `cumsum` dla histogramu wczytanego obrazu.\n",
    "Nie przyjmuje ona żadnych argumentów, a zwraca skumulowane wartości tablicy, dla której została użyta.\n",
    "Histogram należy wyliczyć dla **obrazka wejściowego**, a nie dla wyniku rozciągania.\n",
    "2. Histogram skumulowany wyświetl razem z histogramem zwykłym na jednym wykresie (nie obok siebie).\n",
    "Na potrzeby wyświetlenia przeskaluj histogram skumulowany tak, by miał taką samą wartość maksymalną jak zwykły histogram.\n",
    "W tym celu wykorzystaj metodę `max`.\n",
    "3. Wyświetlenie kilku linii na jednym wykresie może być zrealizowane w następujący sposób:\n",
    "        figHistCum, axsHistCum = plt.subplots()\n",
    "\n",
    "        axsHistCum.plot(HHist)\n",
    "        axsHistCum.plot(CHistNorm)\n",
    "        axsHistCum.grid()\n",
    "4. Teraz zaimplementuj klasyczny algorytm wyrównywania histogramu.\n",
    "Wykorzystać należy obliczony histogram skumulowany.\n",
    "Należy go przeskalować w taki sposób aby na jego podstawie zrealizować przekształcenie LUT, czyli do zakresu 0 - 255.\n",
    "\n",
    ">Uwaga. Opisany algorytm wyrównywania histogramu jest wersją uproszczoną.\n",
    ">W wersji pełnej należy podczas skalowania tablicy przekodowań LUT pominąć elementy równe *0*.\n",
    ">\n",
    ">W tym celu należy wykorzystać funkcje `np.ma.masked_equal` i `np.ma.filled`.\n",
    ">Pierwsza służy do ukrywania elementów tablicy, natomiast druga zamienia ukryte elementy na podaną wartość.\n",
    ">W tym przypadku elementem ukrywanym i wpisywaną wartością byłoby *0*.\n",
    "\n",
    "5. Na kolejnym rysunku wyświetl obrazek po przekształceniu, jego histogram oraz histogram skumulowany.\n",
    "Co szczególnego można powiedzieć o jego histogramie i histogramie skumulowanym?\n",
    "6. W bibliotece *OpenCV* dostępna jest funkcja wykonująca wyrównywanie histogramu `cv2.equalizeHist`.\n",
    "Jej argumentem jest obraz, którego histogram zostanie wyrównany. Zwraca natomiast obraz wynikowy.\n",
    "Na kolejnym rysunku wyświetl wynik funkcji, jego histogram oraz histogram skumulowany.\n",
    "7. W wykorzystywanej bibliotece zaimplementowana jest również metoda adaptacyjnego wyrównywania histogramu algorytmem CLAHE (ang. *Contrast Limited Adaptive Histogram Equalization*}.\n",
    "   Kilka słów wyjaśnienia.\n",
    "   Wadą poznanej metody HE jest jej \"globalność\" rozumiana jako nieuwzględnianie lokalnych właściwości obrazu.\n",
    "   Dlatego też powstała metoda adaptacyjnego wyrównywania histogramu (AHE).\n",
    "   Jest ona spotykana w dwóch wariantach:\n",
    "   - dla każdego piksela niezależnie, w pewnym jego otoczeniu, wyznaczany jest histogram i przeprowadzane wyrównywanie.\n",
    "     Jak nietrudno się domyślić rozwiązanie jest dość kosztowne obliczeniowo.\n",
    "   - obraz wejściowy dzielony jest na nienachodzące na siebie prostokątne okna.\n",
    "     W każdym z okien obliczany jest histogram i przeprowadzane jest wyrównywanie.\n",
    "     W celu eliminacji błędów na granicy okien, stosuje się interpolację.\n",
    "\n",
    "   Metoda AHE ma jednak tą wadę, że w obszarach jednorodnych wzmacnia szum.\n",
    "   Dlatego też zaproponowano rozwiązanie CLAHE, które zakłada ograniczenie kontrastu (CL).\n",
    "   W metodzie definiuje się maksymalną wartość danego przedziału histogramu (próg ograniczenia kontrastu).\n",
    "   Piksele, które przekraczają próg są następnie równomiernie rozdzielane pomiędzy poszczególne przedziały.\n",
    "   Bardziej szczegółowy opis obu metod dostępny jest na [Wikipedii](https://en.wikipedia.org/wiki/Adaptive_histogram_equalization).\n",
    "\n",
    "8. W celu użycia algorytmu należy wywołać funkcję `cv2.createCLAHE`.\n",
    "    - Pierwszym parametrem jest próg ograniczenia kontrastu.\n",
    "    - Drugi parametr definiuje na ile prostokątów zostanie podzielony obraz w rzęch i kolumnach.\n",
    "    - Zwracany jest zainicjalizowany *smart pointer* do klasy `cv::CLAHE`.\n",
    "9. Aby wykonać wyrównywanie należy użyć metody `apply`.\n",
    "Jej argumentem jest obraz wejściowy. Zwracany jest obraz o zmodyfikowanym histogramie.\n",
    "10. Przetestuj różne parametry algorytmu CLAHE.\n",
    "11. W kolejnym etapie należy przetestować operacje (rozciąganie, wyrównywanie (HE) i adaptacyjne wyrównywanie CLAHE)  na histogramie dla obrazów rzeczywistych. *hist2.bmp*, *hist3.bmp*, *hist4.jpg*.\n",
    "W jednym oknie wyświetl: obraz oryginalny, rozciąganie, wyrównywanie HE oraz wyrównywanie CLAHE."
   ]
  },
  {
   "cell_type": "code",
   "execution_count": null,
   "metadata": {
    "id": "xxEuLreccDvY",
    "pycharm": {
     "name": "#%% Zadanie 3 - wyrównywanie\n"
    }
   },
   "outputs": [],
   "source": [
    "cum = np.cumsum(H_1)\n",
    "plt.plot(H_1/max(H_1))\n",
    "plt.plot(cum/max(cum))\n",
    "plt.show()"
   ]
  },
  {
   "cell_type": "code",
   "execution_count": null,
   "metadata": {},
   "outputs": [],
   "source": [
    "def hist_eq(I):\n",
    "    H = cv2.calcHist([I], [0], None, [256], [0, 256])\n",
    "    cum = np.cumsum(H)\n",
    "    lut = np.zeros(256)\n",
    "    lut = np.uint8(255*cum/cum[-1])\n",
    "    eq = cv2.LUT(I, lut)\n",
    "    Heq = cv2.calcHist([eq], [0], None, [256], [0, 256])\n",
    "    return eq, lut, Heq"
   ]
  },
  {
   "cell_type": "code",
   "execution_count": null,
   "metadata": {},
   "outputs": [],
   "source": [
    "eq1, lut1, H_eq = hist_eq(I_1)\n",
    "\n",
    "figCum, axsCum = plt.subplots(2, 2)\n",
    "axsCum[0, 0].imshow(I_1, cmap='gray')\n",
    "axsCum[0, 0].set_title('img1')\n",
    "axsCum[0, 0].axis('off')\n",
    "\n",
    "axsCum[0, 1].imshow(eq1, cmap='gray')\n",
    "axsCum[0, 1].set_title('img1 equalized')\n",
    "axsCum[0, 0].axis('off')\n",
    "\n",
    "axsCum[1, 0].plot(H_1)\n",
    "\n",
    "axsCum[1, 1].plot(H_eq)\n"
   ]
  },
  {
   "cell_type": "code",
   "execution_count": null,
   "metadata": {},
   "outputs": [],
   "source": [
    "cv2equalized = cv2.equalizeHist(I_1)\n",
    "figEq, axsEq = plt.subplots(1, 4, figsize=(15, 5))\n",
    "\n",
    "axsEq[0].imshow(I_1, cmap='gray')\n",
    "axsEq[0].axis('off')\n",
    "axsEq[0].set_title('przed')\n",
    "\n",
    "axsEq[1].imshow(cv2equalized, cmap='gray')\n",
    "axsEq[1].axis('off')\n",
    "axsEq[1].set_title('po')\n",
    "\n",
    "axsEq[2].plot(cv2.calcHist([cv2equalized], [0], None, [256], [0, 256]))\n",
    "axsEq[2].set_title('histogram')\n",
    "\n",
    "axsEq[3].plot(np.cumsum(cv2.calcHist([cv2equalized], [0], None, [256], [0, 256])))\n",
    "axsEq[3].set_title('histogram skumulowany')\n",
    "\n",
    "plt.show()\n",
    "\n",
    "\n"
   ]
  },
  {
   "cell_type": "code",
   "execution_count": null,
   "metadata": {},
   "outputs": [],
   "source": [
    "# Rozciąganie histogramu\n",
    "def histogram_stretching(image):\n",
    "    min_val = image.min()\n",
    "    max_val = image.max()\n",
    "    stretched = 255 * (image - min_val) / (max_val - min_val)\n",
    "    return stretched.clip(0, 255).astype('uint8')\n",
    "\n",
    "# Wyrównywanie HE\n",
    "def histogram_equalization(image):\n",
    "    equalized = cv2.equalizeHist(image)\n",
    "    return equalized\n",
    "\n",
    "# Wyrównywanie CLAHE\n",
    "def clahe_equalization(image):\n",
    "    clahe = cv2.createCLAHE(clipLimit=2.0, tileGridSize=(8, 8))\n",
    "    clahe_image = clahe.apply(image)\n",
    "    return clahe_image"
   ]
  },
  {
   "cell_type": "code",
   "execution_count": null,
   "metadata": {},
   "outputs": [],
   "source": [
    "stretched_I_1 = histogram_stretching(I_1)\n",
    "equalized_I_1 = histogram_equalization(I_1)\n",
    "clahe_I_1 = clahe_equalization(I_1)\n",
    "\n",
    "stretched_I_2 = histogram_stretching(I_2)\n",
    "equalized_I_2 = histogram_equalization(I_2)\n",
    "clahe_I_2 = clahe_equalization(I_2)\n",
    "\n",
    "stretched_I_3 = histogram_stretching(I_3)\n",
    "equalized_I_3 = histogram_equalization(I_3)\n",
    "clahe_I_3 = clahe_equalization(I_3)\n",
    "\n",
    "stretched_I_4 = histogram_stretching(I_4)\n",
    "equalized_I_4 = histogram_equalization(I_4)\n",
    "clahe_I_4 = clahe_equalization(I_4)"
   ]
  },
  {
   "cell_type": "code",
   "execution_count": null,
   "metadata": {},
   "outputs": [],
   "source": [
    "plt.figure(figsize=(12, 12))\n",
    "\n",
    "plt.subplot(4, 4, 1)\n",
    "plt.imshow(I_1, cmap='gray')\n",
    "plt.title('Oryginał 1')\n",
    "\n",
    "plt.subplot(4, 4, 2)\n",
    "plt.imshow(stretched_I_1, cmap='gray')\n",
    "plt.title('Rozciąganie')\n",
    "\n",
    "plt.subplot(4, 4, 3)\n",
    "plt.imshow(equalized_I_1, cmap='gray')\n",
    "plt.title('Wyrównywanie HE')\n",
    "\n",
    "plt.subplot(4, 4, 4)\n",
    "plt.imshow(clahe_I_1, cmap='gray')\n",
    "plt.title('Wyrównywanie CLAHE')\n",
    "\n",
    "plt.subplot(4, 4, 5)\n",
    "plt.imshow(I_2, cmap='gray')\n",
    "plt.title('Oryginał 2')\n",
    "\n",
    "plt.subplot(4, 4, 6)\n",
    "plt.imshow(stretched_I_2, cmap='gray')\n",
    "plt.title('Rozciąganie')\n",
    "\n",
    "plt.subplot(4, 4, 7)\n",
    "plt.imshow(equalized_I_2, cmap='gray')\n",
    "plt.title('Wyrównywanie HE')\n",
    "\n",
    "plt.subplot(4, 4, 8)\n",
    "plt.imshow(clahe_I_2, cmap='gray')\n",
    "plt.title('Wyrównywanie CLAHE')\n",
    "\n",
    "plt.subplot(4, 4, 9)\n",
    "plt.imshow(I_3, cmap='gray')\n",
    "plt.title('Oryginał 3')\n",
    "\n",
    "plt.subplot(4, 4, 10)\n",
    "plt.imshow(stretched_I_3, cmap='gray')\n",
    "plt.title('Rozciąganie')\n",
    "\n",
    "plt.subplot(4, 4, 11)\n",
    "plt.imshow(equalized_I_3, cmap='gray')\n",
    "plt.title('Wyrównywanie HE')\n",
    "\n",
    "plt.subplot(4, 4, 12)\n",
    "plt.imshow(clahe_I_3, cmap='gray')\n",
    "plt.title('Wyrównywanie CLAHE')\n",
    "\n",
    "plt.subplot(4, 4, 13)\n",
    "plt.imshow(I_4, cmap='gray')\n",
    "plt.title('Oryginał 4')\n",
    "\n",
    "plt.subplot(4, 4, 14)\n",
    "plt.imshow(stretched_I_4, cmap='gray')\n",
    "plt.title('Rozciąganie')\n",
    "\n",
    "plt.subplot(4, 4, 15)\n",
    "plt.imshow(equalized_I_4, cmap='gray')\n",
    "plt.title('Wyrównywanie HE')\n",
    "\n",
    "plt.subplot(4, 4, 16)\n",
    "plt.imshow(clahe_I_4, cmap='gray')\n",
    "plt.title('Wyrównywanie CLAHE')\n",
    "\n",
    "plt.tight_layout()\n",
    "plt.show()"
   ]
  },
  {
   "cell_type": "markdown",
   "metadata": {
    "collapsed": false,
    "id": "C9WYAOJTcDvZ",
    "jupyter": {
     "outputs_hidden": false
    },
    "pycharm": {
     "name": "#%% md\n"
    }
   },
   "source": [
    "## Histogram dla obrazów kolorowych i jego wyrównywanie\n",
    "\n",
    "1. Wczytaj obraz *lenaRGB.bmp*.\n",
    "2. Wykonaj konwersję przestrzeni barw z BGR do RGB.\n",
    "3. Wyświetl wczytany obraz oraz histogram dla każdej składowej przestrzeni barw.\n",
    "W tym celu można użyć drugiego argumentu wykorzystywanej funkcji (numer kanału).\n",
    "4. Wykonaj wyrównywanie dla każdej składowej obrazu. Połącz otrzymane składowe w nowy obraz i wyświetl go.\n",
    "Jaka jest zasadnicza wada takiego podejścia?\n",
    "5. Przekształć obraz wejściowy do przestrzeni HSV (flaga `cv2.COLOR_BGR2HSV`).\n",
    "Wyświetl histogramy poszczególnych składowych.\n",
    "Manipulacji dokonujemy na składowej odpowiadającej za jasność, czyli V.\n",
    "Wykonaj wyrównywanie histogramu dla tej składowej.\n",
    "Dokonaj podmiany składowej V i wyświetl rezultat operacji.\n",
    "Uprzednio przeprowadź konwersję HSV->RGB (flaga `cv2.COLOR_HSV2RGB`).\n",
    "6. Wykonaj te same operacje dla obrazu *jezioro.jpg*."
   ]
  },
  {
   "cell_type": "code",
   "execution_count": null,
   "metadata": {
    "id": "y5T31GV3cDvZ",
    "pycharm": {
     "name": "#%% Zadanie 4 - histogram\n"
    }
   },
   "outputs": [],
   "source": [
    "fileName = 'lenaRGB.bmp'\n",
    "if not os.path.exists(fileName) :\n",
    "    r = requests.get(url + fileName, allow_redirects=True)\n",
    "    open(fileName, 'wb').write(r.content)\n",
    "\n",
    "fileName = 'jezioro.jpg'\n",
    "if not os.path.exists(fileName) :\n",
    "    r = requests.get(url + fileName, allow_redirects=True)\n",
    "    open(fileName, 'wb').write(r.content)"
   ]
  },
  {
   "cell_type": "code",
   "execution_count": null,
   "metadata": {
    "id": "vzj4kEtOcDva",
    "pycharm": {
     "name": "#%% Zadanie 4 - wyrównanie\n"
    }
   },
   "outputs": [],
   "source": [
    "I_RGB = cv2.imread('lenaRGB.bmp')\n",
    "I_RGB = cv2.cvtColor(I_RGB, cv2.COLOR_BGR2RGB)\n",
    "\n",
    "\n",
    "figRGB, axsRGB = plt.subplots(1, 4, figsize=(15, 5))\n",
    "\n",
    "axsRGB[0].imshow(I_RGB)\n",
    "\n",
    "axsRGB[1].plot(cv2.calcHist([I_RGB], [0], None, [256], [0, 256]))\n",
    "axsRGB[1].set_title('Red')\n",
    "\n",
    "axsRGB[2].plot(cv2.calcHist([I_RGB], [1], None, [256], [0, 256]))\n",
    "axsRGB[2].set_title('Green')\n",
    "\n",
    "axsRGB[3].plot(cv2.calcHist([I_RGB], [2], None, [256], [0, 256]))\n",
    "axsRGB[3].set_title('Blue')\n",
    "\n",
    "plt.show()"
   ]
  },
  {
   "cell_type": "code",
   "execution_count": null,
   "metadata": {
    "id": "sExCMbOYcDva",
    "pycharm": {
     "name": "#%% Zadanie 4 - HSV histogram\n"
    }
   },
   "outputs": [],
   "source": [
    "I_RGB_eq = I_RGB.copy()\n",
    "I_RGB_eq[:, :, 0] = histogram_equalization(I_RGB[:, :, 0])\n",
    "I_RGB_eq[:, :, 1] = histogram_equalization(I_RGB[:, :, 1])\n",
    "I_RGB_eq[:, :, 2] = histogram_equalization(I_RGB[:, :, 2])\n",
    "\n",
    "figRGB, axsRGB = plt.subplots(1, 2, figsize=(15, 5))\n",
    "\n",
    "axsRGB[0].imshow(I_RGB)\n",
    "axsRGB[0].set_title('Original')\n",
    "\n",
    "axsRGB[1].imshow(I_RGB_eq)\n",
    "axsRGB[1].set_title('Equalized')\n",
    "\n",
    "plt.show()"
   ]
  },
  {
   "cell_type": "code",
   "execution_count": null,
   "metadata": {
    "id": "AGV4sG7TcDvb",
    "pycharm": {
     "name": "#%% Zadanie 4 - HSV wyrównanie\n"
    }
   },
   "outputs": [],
   "source": [
    "I_HSV = cv2.cvtColor(I_RGB, cv2.COLOR_RGB2HSV)\n",
    "\n",
    "figHSV, axsHSV = plt.subplots(1, 3, figsize=(15, 5))\n",
    "\n",
    "\n",
    "axsHSV[0].plot(cv2.calcHist([I_HSV], [0], None, [256], [0, 256]))\n",
    "axsHSV[0].set_title('Hue')\n",
    "\n",
    "axsHSV[1].plot(cv2.calcHist([I_HSV], [1], None, [256], [0, 256]))\n",
    "axsHSV[1].set_title('Saturation')\n",
    "\n",
    "axsHSV[2].plot(cv2.calcHist([I_HSV], [2], None, [256], [0, 256]))\n",
    "axsHSV[2].set_title('Value')\n",
    "\n",
    "plt.show()"
   ]
  },
  {
   "cell_type": "code",
   "execution_count": null,
   "metadata": {},
   "outputs": [],
   "source": [
    "I_HSV_eq = I_HSV.copy()\n",
    "I_HSV_eq[:, :, 2] = histogram_equalization(I_HSV[:, :, 2])\n",
    "\n",
    "I_RGB_eq = cv2.cvtColor(I_HSV_eq, cv2.COLOR_HSV2RGB)\n",
    "\n",
    "figHSV, axsHSV = plt.subplots(1, 2, figsize=(15, 5))\n",
    "\n",
    "axsHSV[0].imshow(I_RGB)\n",
    "axsHSV[0].set_title('Original')\n",
    "\n",
    "axsHSV[1].imshow(I_RGB_eq)\n",
    "axsHSV[1].set_title('Equalized')\n",
    "\n",
    "plt.show()"
   ]
  },
  {
   "cell_type": "code",
   "execution_count": null,
   "metadata": {},
   "outputs": [],
   "source": [
    "I_RGB = cv2.imread('jezioro.jpg')\n",
    "I_RGB = cv2.cvtColor(I_RGB, cv2.COLOR_BGR2RGB)\n",
    "\n",
    "\n",
    "figRGB, axsRGB = plt.subplots(1, 4, figsize=(15, 5))\n",
    "\n",
    "axsRGB[0].imshow(I_RGB)\n",
    "\n",
    "\n",
    "axsRGB[1].plot(cv2.calcHist([I_RGB], [0], None, [256], [0, 256]))\n",
    "axsRGB[1].set_title('Red')\n",
    "\n",
    "axsRGB[2].plot(cv2.calcHist([I_RGB], [1], None, [256], [0, 256]))\n",
    "axsRGB[2].set_title('Green')\n",
    "\n",
    "axsRGB[3].plot(cv2.calcHist([I_RGB], [2], None, [256], [0, 256]))\n",
    "axsRGB[3].set_title('Blue')\n",
    "\n",
    "plt.show()"
   ]
  },
  {
   "cell_type": "code",
   "execution_count": null,
   "metadata": {},
   "outputs": [],
   "source": [
    "\n",
    "I_RGB_eq = I_RGB.copy()\n",
    "I_RGB_eq[:, :, 0] = histogram_equalization(I_RGB[:, :, 0])\n",
    "I_RGB_eq[:, :, 1] = histogram_equalization(I_RGB[:, :, 1])\n",
    "I_RGB_eq[:, :, 2] = histogram_equalization(I_RGB[:, :, 2])\n",
    "\n",
    "figRGB, axsRGB = plt.subplots(1, 2, figsize=(15, 5))\n",
    "\n",
    "axsRGB[0].imshow(I_RGB)\n",
    "axsRGB[0].set_title('Original')\n",
    "\n",
    "axsRGB[1].imshow(I_RGB_eq)\n",
    "axsRGB[1].set_title('Equalized')\n",
    "\n",
    "plt.show()"
   ]
  },
  {
   "cell_type": "code",
   "execution_count": null,
   "metadata": {},
   "outputs": [],
   "source": [
    "\n",
    "I_HSV = cv2.cvtColor(I_RGB, cv2.COLOR_RGB2HSV)\n",
    "\n",
    "figHSV, axsHSV = plt.subplots(1, 3, figsize=(15, 5))\n",
    "\n",
    "\n",
    "axsHSV[0].plot(cv2.calcHist([I_HSV], [0], None, [256], [0, 256]))\n",
    "axsHSV[0].set_title('Hue')\n",
    "\n",
    "axsHSV[1].plot(cv2.calcHist([I_HSV], [1], None, [256], [0, 256]))\n",
    "axsHSV[1].set_title('Saturation')\n",
    "\n",
    "axsHSV[2].plot(cv2.calcHist([I_HSV], [2], None, [256], [0, 256]))\n",
    "axsHSV[2].set_title('Value')\n",
    "\n",
    "plt.show()"
   ]
  },
  {
   "cell_type": "code",
   "execution_count": null,
   "metadata": {},
   "outputs": [],
   "source": [
    "\n",
    "I_HSV_eq = I_HSV.copy()\n",
    "I_HSV_eq[:, :, 2] = histogram_equalization(I_HSV[:, :, 2])\n",
    "\n",
    "I_RGB_eq = cv2.cvtColor(I_HSV_eq, cv2.COLOR_HSV2RGB)\n",
    "\n",
    "figHSV, axsHSV = plt.subplots(1, 2, figsize=(15, 5))\n",
    "\n",
    "axsHSV[0].imshow(I_RGB)\n",
    "axsHSV[0].set_title('Original')\n",
    "\n",
    "axsHSV[1].imshow(I_RGB_eq)\n",
    "axsHSV[1].set_title('Equalized')\n",
    "\n",
    "plt.show()"
   ]
  }
 ],
 "metadata": {
  "colab": {
   "collapsed_sections": [],
   "provenance": []
  },
  "kernelspec": {
   "display_name": "Python 3 (ipykernel)",
   "language": "python",
   "name": "python3"
  },
  "language_info": {
   "codemirror_mode": {
    "name": "ipython",
    "version": 3
   },
   "file_extension": ".py",
   "mimetype": "text/x-python",
   "name": "python",
   "nbconvert_exporter": "python",
   "pygments_lexer": "ipython3",
   "version": "3.11.5"
  }
 },
 "nbformat": 4,
 "nbformat_minor": 4
}
